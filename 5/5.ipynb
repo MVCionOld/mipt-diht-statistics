{
  "nbformat": 4,
  "nbformat_minor": 0,
  "metadata": {
    "colab": {
      "name": "5.ipynb",
      "provenance": [],
      "collapsed_sections": []
    },
    "kernelspec": {
      "name": "python3",
      "display_name": "Python 3"
    }
  },
  "cells": [
    {
      "cell_type": "code",
      "metadata": {
        "id": "B9RvpUZnasT8",
        "colab_type": "code",
        "colab": {}
      },
      "source": [
        "!pip3 install -U -q PyDrive\n",
        "\n",
        "from pydrive.auth import GoogleAuth\n",
        "from pydrive.drive import GoogleDrive\n",
        "from google.colab import auth\n",
        "from oauth2client.client import GoogleCredentials"
      ],
      "execution_count": 0,
      "outputs": []
    },
    {
      "cell_type": "code",
      "metadata": {
        "id": "cQnrDzGdar_c",
        "colab_type": "code",
        "colab": {}
      },
      "source": [
        "import pandas as pd\n",
        "\n",
        "\n",
        "def collect_csv_data_via_gd(link: str, filenm: str) -> pd.core.frame.DataFrame:\n",
        "    auth.authenticate_user()\n",
        "    gauth = GoogleAuth()\n",
        "    gauth.credentials = GoogleCredentials.get_application_default()\n",
        "    drive = GoogleDrive(gauth)\n",
        "    fluff, id = link.split('=')\n",
        "    downloader = drive.CreateFile({'id':id})\n",
        "    downloader.GetContentFile(filenm)  \n",
        "    return pd.read_csv(filenm)"
      ],
      "execution_count": 0,
      "outputs": []
    },
    {
      "cell_type": "code",
      "metadata": {
        "id": "EvG2rqyzTAsb",
        "colab_type": "code",
        "colab": {}
      },
      "source": [
        "import matplotlib.pyplot as plt\n",
        "import numpy as np\n",
        "from scipy.special import factorial\n",
        "from scipy import stats\n",
        "import warnings\n",
        "\n",
        "warnings.simplefilter('ignore')\n",
        "\n",
        "%matplotlib inline"
      ],
      "execution_count": 0,
      "outputs": []
    },
    {
      "cell_type": "markdown",
      "metadata": {
        "id": "DeiJDusiXYQl",
        "colab_type": "text"
      },
      "source": [
        "В учебных целях в данном задании запрещено использовать готовые реализации линейной регрессии (например, из пакета $\\verb|scikit-learn|$)."
      ]
    },
    {
      "cell_type": "markdown",
      "metadata": {
        "id": "BFS8S6uEU8vm",
        "colab_type": "text"
      },
      "source": [
        "# Задача №1"
      ]
    },
    {
      "cell_type": "markdown",
      "metadata": {
        "id": "fo9umzxxVv82",
        "colab_type": "text"
      },
      "source": [
        "Загрузите данные из набора $\\verb|Forest Fires|$ (файл $\\verb|forestfires.csv|$) о лесных пожарах в Португалии. Задача состоит в том, чтобы с помощью линейной регрессии научиться предсказывать координату area (площадь пожара) в виде линейной комбинации других данных.\n",
        "\n",
        "Чтобы работать с числовыми координатами, нечисловые координаты ($\\verb|month|$, $\\verb|day|$) нужно перевести в числовые. Для простоты можно заменить координату month на индикатор летнего сезона, а координату day не использовать вообще. По желанию можно сделать преобразование другим способом. Также добавьте координату, тождественно равную единице (вес при этой координате  интерпретируется как сдвиг).\n",
        "\n",
        "Разбейте выборку на две части в соотношении $7:3$ (перемешав её с помощью $\\verb|random.shuffle|$). По первой части постройте регрессионную модель. Примените модель ко второй части выборки и посчитайте по ней среднеквадратичную ошибку.\n",
        "\n",
        "Для переменной area выполните преобразование $f(x) = ln(x+c)$ и постройте для нее новую регрессионную модель. Посчитайте среднеквадратичную ошибку для преобразованных значений. При каком $c$ предсказания получаются лучше всего? \n",
        "\n",
        "При выбранном $c$ сделайте разбиение выборки в соотношении $7:3$ разными способами (перемешивая каждый раз). Найдите способ оценить разброс качества от разбиения. Сильно ли меняется качество? Сделайте выводы."
      ]
    },
    {
      "cell_type": "markdown",
      "metadata": {
        "id": "CIaKk81Aa-o2",
        "colab_type": "text"
      },
      "source": [
        "# Решение"
      ]
    },
    {
      "cell_type": "markdown",
      "metadata": {
        "id": "e35ghMuEYRPA",
        "colab_type": "text"
      },
      "source": [
        "Загрузим данные и выполним преобразования и сделаем копию для вспомогательных расчетов: "
      ]
    },
    {
      "cell_type": "code",
      "metadata": {
        "id": "iycNW29lgq-t",
        "colab_type": "code",
        "colab": {}
      },
      "source": [
        "df_data = collect_csv_data_via_gd(\n",
        "    link=\"https://drive.google.com/open?id=16biq--Fyj66FCIXJoLAPFM1iuhoDqHFd\",\n",
        "    filenm=\"forestfires.csv\")\\\n",
        "    .drop(\"day\", axis=1)\n",
        "\n",
        "df_data.month = df_data.month.apply(\n",
        "    lambda month: int(month in ['jun', 'jul', 'aug']))\n",
        "\n",
        "df_data[\"shift\"] = 1.0\n",
        "\n",
        "df_data_copy = df_data.copy()"
      ],
      "execution_count": 0,
      "outputs": []
    },
    {
      "cell_type": "markdown",
      "metadata": {
        "id": "yanljGxnYR_D",
        "colab_type": "text"
      },
      "source": [
        "Напишем функцию вычисляющую $\\verb|MSE|$:"
      ]
    },
    {
      "cell_type": "code",
      "metadata": {
        "id": "fD6BJkJ2u2gy",
        "colab_type": "code",
        "colab": {}
      },
      "source": [
        "def compute_mean_squared_error(predicted, actual):\n",
        "    return np.square(np.subtract(predicted, actual)).mean()"
      ],
      "execution_count": 0,
      "outputs": []
    },
    {
      "cell_type": "markdown",
      "metadata": {
        "id": "jpSnggOtYSfG",
        "colab_type": "text"
      },
      "source": [
        "Следующий класс $\\verb|ForestFiresLinReg|$ описывает линейную регресионную модель в нашей задаче.  \n",
        "\n",
        "\n",
        "*   $\\verb|compute_mean_squared_estimator|$ - вычисляет оценку наименьших квадратов\n",
        "*   $\\verb|split_data|$ - разбить датасет на данные для тестирования и предсказания\n",
        "*   $\\verb|extract_basis|$ - выделить базис из датасета\n",
        "*   $\\verb|extract_values|$ - выделить сами значения из датасета\n",
        "*   $\\verb|test_prediction|$ - обучиться на части данных и выполнить предсказание на остатке\n",
        "\n"
      ]
    },
    {
      "cell_type": "code",
      "metadata": {
        "id": "LLXMeZxESM_g",
        "colab_type": "code",
        "colab": {}
      },
      "source": [
        "class ForestFiresLinReg:\n",
        "\n",
        "    def __init__(self, **kwargs):\n",
        "        self.transform = np.vectorize(\n",
        "            kwargs.get(\"transform\", lambda x: x))\n",
        "        self.transform_inv = np.vectorize(\n",
        "            kwargs.get(\"transform_inv\", lambda x: x))\n",
        "            \n",
        "    @staticmethod\n",
        "    def compute_mean_squared_estimator(values, basis):\n",
        "        return np.linalg.inv(basis.T @ basis) @ basis.T @ values\n",
        "    \n",
        "    @staticmethod\n",
        "    def split_data(df: pd.core.frame.DataFrame, split_factor: float)\\\n",
        "      -> (pd.core.frame.DataFrame, pd.core.frame.DataFrame):\n",
        "        assert 0. < split_factor < 1., \"Incorrect split factor\"\n",
        "        items_cnt = len(df)\n",
        "        to_train_cnt = int(np.ceil(items_cnt * split_factor))\n",
        "        return df[:to_train_cnt], df[to_train_cnt:]\n",
        "\n",
        "    @staticmethod\n",
        "    def extract_basis(df: pd.core.frame.DataFrame)\\\n",
        "      -> pd.core.frame.DataFrame:\n",
        "        return df.drop(labels=[\"area\"], axis=1)\n",
        "\n",
        "    @staticmethod\n",
        "    def extract_values(df: pd.core.frame.DataFrame)\\\n",
        "      -> pd.core.frame.DataFrame:\n",
        "        return df.area\n",
        "\n",
        "    def test_prediction(self, df: pd.core.frame.DataFrame, split_factor: float)\\\n",
        "      -> pd.core.frame.DataFrame:\n",
        "        df.area = self.transform(df.area)\n",
        "        to_train, to_predict = self.split_data(df, split_factor)\n",
        "        theta_est = self.compute_mean_squared_estimator(\n",
        "            self.extract_values(to_train), \n",
        "            self.extract_basis(to_train)\n",
        "        )\n",
        "        predicted_areas = np.dot(self.extract_basis(to_predict), theta_est)\n",
        "        actual_areas = self.extract_values(to_predict)\n",
        "        return pd.DataFrame(data={\n",
        "            \"predicted\": self.transform_inv(predicted_areas),\n",
        "            \"actual\"   : self.transform_inv(actual_areas) \n",
        "        })"
      ],
      "execution_count": 0,
      "outputs": []
    },
    {
      "cell_type": "markdown",
      "metadata": {
        "id": "_2Dr4iK6eK_X",
        "colab_type": "text"
      },
      "source": [
        "Напишем функцию для тестирования работы линейной регресионной модели c $log-$трансформацией при фиксированном значении $c$:"
      ]
    },
    {
      "cell_type": "code",
      "metadata": {
        "id": "Za8wrOECeKNC",
        "colab_type": "code",
        "colab": {}
      },
      "source": [
        "def test_log_transform(c_param: float) -> float:\n",
        "    loglinreg_model = ForestFiresLinReg(\n",
        "        transform=lambda x: np.log(x + c_param),\n",
        "        transform_inv=lambda x: np.exp(x) - c_param)\n",
        "    df_test = loglinreg_model.test_prediction(df_data_copy.copy(), 0.7)\n",
        "    return compute_mean_squared_error(\n",
        "        predicted=df_test.predicted,\n",
        "        actual=df_test.actual)\n",
        "\n",
        "vtest_log_transform = np.vectorize(test_log_transform)"
      ],
      "execution_count": 0,
      "outputs": []
    },
    {
      "cell_type": "markdown",
      "metadata": {
        "id": "Qkb1NbHs74gZ",
        "colab_type": "text"
      },
      "source": [
        "И для простой линейной регрессионной модели, т.е. без дополнительной трансформации данных:"
      ]
    },
    {
      "cell_type": "code",
      "metadata": {
        "id": "qsITlbxE74pW",
        "colab_type": "code",
        "colab": {}
      },
      "source": [
        "def test_standart() -> float:\n",
        "    df_test = ForestFiresLinReg().test_prediction(df_data_copy.copy(), 0.7)\n",
        "    return compute_mean_squared_error(\n",
        "        predicted=df_test.predicted,\n",
        "        actual=df_test.actual)"
      ],
      "execution_count": 0,
      "outputs": []
    },
    {
      "cell_type": "markdown",
      "metadata": {
        "id": "SvwnS9L1HcYR",
        "colab_type": "text"
      },
      "source": [
        "Для $1\\leq c\\leq 1000$ с шагом $1$ для фиксированного порядка датасета найдем оптимально значение $\\verb|c|$, т.е. при каком значении $\\verb|c|$ $\\verb|MSE|$ принимает наименьшее значение.  \n",
        "Выполним всего 10 серий таких тестов, перемешивая данные на каждой серии.  \n",
        "В дополнение, на каждой серии посчитаем $\\verb|MSE|$ для линейной регрессионной модели без дополнительных преобразований данных."
      ]
    },
    {
      "cell_type": "code",
      "metadata": {
        "id": "_FQf0OdW5mQB",
        "colab_type": "code",
        "outputId": "ad968e48-f838-4e52-c715-ed10520a0fe5",
        "colab": {
          "base_uri": "https://localhost:8080/",
          "height": 1000
        }
      },
      "source": [
        "c_vector = np.linspace(1, 1000, num=10**3)\n",
        "plt.figure(figsize=(20, 10))\n",
        "plt.title('MSE для $f(x) = ln(x+c)$ при разных $c$')\n",
        "plt.xlabel('$1\\leq c\\leq 1000$')\n",
        "plt.ylabel('MSE(c)')\n",
        "plt.yscale('log')\n",
        "for test in range(10):\n",
        "    series = vtest_log_transform(c_vector)\n",
        "    c_min = np.argmin(series)\n",
        "    print(f\"\"\"Test №{test+1}:\n",
        "    \\t* loglinreg_model.MSE({c_min+1}) = {series[c_min]}\n",
        "    \\t* linreg_model.MSE = {test_standart()}\"\"\")\n",
        "    plt.plot(c_vector, series, label=f\"Test №{test+1}\")\n",
        "    df_data_copy = df_data_copy\\\n",
        "      .sample(frac=1)\\\n",
        "      .reset_index(drop=True)\n",
        "plt.grid(ls=':')\n",
        "plt.legend()\n",
        "plt.show()"
      ],
      "execution_count": 9,
      "outputs": [
        {
          "output_type": "stream",
          "text": [
            "Test №1:\n",
            "    \t* loglinreg_model.MSE(83) = 4578.087574373634\n",
            "    \t* linreg_model.MSE = 4724.1332614232\n",
            "Test №2:\n",
            "    \t* loglinreg_model.MSE(21) = 507.2862020056817\n",
            "    \t* linreg_model.MSE = 807.4596508490382\n",
            "Test №3:\n",
            "    \t* loglinreg_model.MSE(92) = 1426.4265668726123\n",
            "    \t* linreg_model.MSE = 1594.1685266102922\n",
            "Test №4:\n",
            "    \t* loglinreg_model.MSE(148) = 1636.2294541922138\n",
            "    \t* linreg_model.MSE = 1743.462407102731\n",
            "Test №5:\n",
            "    \t* loglinreg_model.MSE(9) = 714.361622136963\n",
            "    \t* linreg_model.MSE = 1095.598482307715\n",
            "Test №6:\n",
            "    \t* loglinreg_model.MSE(143) = 559.1309933870166\n",
            "    \t* linreg_model.MSE = 611.3466290991527\n",
            "Test №7:\n",
            "    \t* loglinreg_model.MSE(1000) = 8502.825665807215\n",
            "    \t* linreg_model.MSE = 8486.905418167431\n",
            "Test №8:\n",
            "    \t* loglinreg_model.MSE(1000) = 12069.047600240208\n",
            "    \t* linreg_model.MSE = 12064.966384596317\n",
            "Test №9:\n",
            "    \t* loglinreg_model.MSE(42) = 557.4295468413637\n",
            "    \t* linreg_model.MSE = 699.3240950102736\n",
            "Test №10:\n",
            "    \t* loglinreg_model.MSE(62) = 931.3903231061033\n",
            "    \t* linreg_model.MSE = 1088.2024465125821\n"
          ],
          "name": "stdout"
        },
        {
          "output_type": "display_data",
          "data": {
            "image/png": "[encoded data removed]",
            "text/plain": [
              "<Figure size 1440x720 with 1 Axes>"
            ]
          },
          "metadata": {
            "tags": []
          }
        }
      ]
    },
    {
      "cell_type": "markdown",
      "metadata": {
        "id": "Aq3CVEsTMbXI",
        "colab_type": "text"
      },
      "source": [
        "Как видим, невозможно предсказать, что при увеличении/уменьшении параметра $\\verb|c|$, мы получим меньшее значение $\\verb|MSE(c)|$.  \n",
        "\n",
        "Также важно заметить, что на каждой серии при равных $\\verb|c|$ значения $\\verb|MSE(c)|$ разнятся. Причем само $\\verb|MSE(c)|$ может отличаться на несколько порядков в некоторых случаях, что при равных $\\verb|c|$, что при \"оптимальных\" $\\verb|c|$. Однако, это вполне закономерно, т.к. на разных подчастях датасета модель строится разная, метод оценки наименьших квадратов дает разные значения. \n",
        "\n",
        "\n",
        "Более того, при перемешиваниии мы предсказываем часть прошлое по части будущему и наоборот, что довольно странно."
      ]
    },
    {
      "cell_type": "markdown",
      "metadata": {
        "id": "B2fzRbkEw7v5",
        "colab_type": "text"
      },
      "source": [
        "Также по приложенному графику сложно судить о том, о поведении функции $\\verb|MSE(c)|$. Все потому что $\\verb|MSE(c)|$ также является функцией от данных, а на каждой серии, аргумент $-$ данные $-$ разные из-за перемешивания.  \n"
      ]
    },
    {
      "cell_type": "markdown",
      "metadata": {
        "id": "3gsKALtvAYqr",
        "colab_type": "text"
      },
      "source": [
        "Отдельно отметим, что в случае, когда линейная регрессионная модель с $log-$трансформацией даёт минимальное значение $\\verb|MSE|$ при различных $\\verb|c|$ на разных данных, в том числе и при $\\verb|c|=1000$. Это объясняется, тем, что значения $\\verb|c|$ мы берем из ограниченного отрезка, а \"оптимальное\" $\\verb|c|$ может \"лежать дальше\" $10^3$. Однако, при найденном оптимальном $\\verb|c|<10^3$ среднеквадратичная ошибка меньше в моделе с $log-$трансформацией, чем в простой."
      ]
    },
    {
      "cell_type": "markdown",
      "metadata": {
        "id": "3f2v83U8Vg_z",
        "colab_type": "text"
      },
      "source": [
        "# Вывод №1"
      ]
    },
    {
      "cell_type": "markdown",
      "metadata": {
        "id": "JlsE75xPVwbp",
        "colab_type": "text"
      },
      "source": [
        "Таким образом данную задачу решать методом линейной регрессии не совсем оправдано, так как этот метод дает очень большую ошибку на тестовых данных при случайном сплите. Возможно, если брать данные в хронолигическом порядке данный метод отработает лучше, но данные не полные, т.к. в датасете нет поля \"год\". Из условия не ясно: данные за один год или за несколько лет. В случае, когда данные за один год, разбиение $7:3$ не годится при упорядовачивании в хронологическом порядке по понятным причинам.  \n",
        "Результаты экспериментов показывают, что модель $log-$трансформацией даёт меньшую среднеквадратичную ошибку, исключая те случаи, когда $\\verb|c|$ не лежит в $[1;1000]$."
      ]
    },
    {
      "cell_type": "markdown",
      "metadata": {
        "id": "QMjUiWz1VhVi",
        "colab_type": "text"
      },
      "source": [
        "# Задача №2"
      ]
    },
    {
      "cell_type": "markdown",
      "metadata": {
        "id": "xwhbiq5rVw8q",
        "colab_type": "text"
      },
      "source": [
        "Пусть $$X_i = \\beta_1+i\\beta_2+\\varepsilon_0+\\ldots+\\varepsilon_i,\\, i= 0, 1, \\ldots, n$$ $-$ расстояния, которое проехал трамвай за $i$ секунд по показанию датчика. Здесь $\\beta_1$ $-$ начальное расстояние, $\\beta_2$ $-$ скорость трамвая, $\\varepsilon_0$ $-$ ошибка начального показания датчика. Трамвай едет с постоянной скоростью, и через каждую секунду датчик фиксирует расстояние, которое проехал трамвай. Отсчет времени идет от предыдущего замера, причем отсчет происходит с ошибкой. Для $i = 1, \\ldots, n$ величина $\\varepsilon_i$ есть ошибка приращения расстояния, то есть $\\varepsilon_i = \\varepsilon_i^t \\beta_2,$ где $\\varepsilon_i^t$ $-$ ошибка отсчета времени. Все ошибки $\\varepsilon_i$ независимы и распределены по закону $\\mathcal{N}(0, \\sigma^2)$. \n",
        "\n",
        "Сведите задачу к линейной модели и найдите оценки наименьших квадратов для начального расстояния $\\beta_1$ и скорости $\\beta_2,$ а также несмещенную оценку для $\\sigma^2,$ из которой выразите оценку дисперсии отсчета времени. \n",
        "\n",
        "Данные возьмите из файла $\\verb|Regression.csv|$. Сделайте выводы."
      ]
    },
    {
      "cell_type": "markdown",
      "metadata": {
        "id": "2xkpoQuvbDbl",
        "colab_type": "text"
      },
      "source": [
        "# Решение"
      ]
    },
    {
      "cell_type": "markdown",
      "metadata": {
        "id": "SN2XIDJFVy8j",
        "colab_type": "text"
      },
      "source": [
        "Сведем решение к линейной модели. Достаточно рассмотреть разности вида: $$Y_{i} = X_{i+1} - X_i = \\beta_{2} + \\varepsilon_{i}$$ для $\\forall{i} > 0.$  \n",
        "Более того, положим $Y_{0} = X_{0} = \\beta_{1} + \\varepsilon_{0}.$ Значение $Y_i$ это расстояние, которое проезжает трамвай за $i$-ую секунду.  \n",
        "Найдем оценку коэффициентов линейной регрессии методом наименьших квадратов:  \n",
        "$$\\hat{\\theta} = (Z^{T}\\cdot Z)^{-1}\\cdot Z^T\\cdot Y = \n",
        "\\begin{pmatrix} \n",
        "  \\hat{\\beta_{1}} \\\\\n",
        "  \\hat{\\beta_{2}} \n",
        "\\end{pmatrix}$$  \n",
        "где:  \n",
        "$Y$ - вектoр данных,  \n",
        "$Z=\n",
        "\\begin{pmatrix} \n",
        "1 \\ 0 \\\\ 0 \\ 1 \\\\ ... \\\\ 0 \\ 1 \n",
        "\\end{pmatrix}.$    \n",
        "\n",
        "Решением является:  \n",
        "$\\hat{\\beta_{1}} = Y_{0},$    \n",
        "$\\hat{\\beta_{2}} = \\overline{\\textbf{Y}^{'}}$, где $\\textbf{Y}^{'}=\\{Y_{i}|i=\\overline{1,n}\\}.$    \n",
        "\n",
        "Несмещенная оценка $\\sigma^{2}:$  \n",
        "$$\\hat{\\sigma^2} = \\frac{1}{n - k}||Y - Z\\cdot\\hat{\\theta}||^2 = $$  \n",
        "$$= \\frac{1}{n - 2}\\cdot\\sum_{i = 1}^n{(Y_i - \\overline{Y^{'}})^2}=\\frac{n}{n-2}\\cdot s^2(Y^{'})$$    \n",
        "\n",
        "Дисперсия отсчета времени равна: $\\hat{\\sigma^{2}_{t}}=\\frac{\\hat{\\sigma^2}}{\\hat{\\beta_{2}}^{2}}.$"
      ]
    },
    {
      "cell_type": "markdown",
      "metadata": {
        "id": "wfUOB1-VbnvW",
        "colab_type": "text"
      },
      "source": [
        "Загрузим данные:"
      ]
    },
    {
      "cell_type": "code",
      "metadata": {
        "id": "FVpru1btbu41",
        "colab_type": "code",
        "colab": {}
      },
      "source": [
        "df_data = collect_csv_data_via_gd(\n",
        "    link=\"https://drive.google.com/open?id=1ODAEoNo-WgheJ7bnwKmUErajqDPWW-tU\",\n",
        "    filenm=\"regression.csv\")"
      ],
      "execution_count": 0,
      "outputs": []
    },
    {
      "cell_type": "markdown",
      "metadata": {
        "id": "xUiQTVHzKG9Z",
        "colab_type": "text"
      },
      "source": [
        "Преобразуем данные из $\\verb|pandas.DataFrame|$ в $\\verb|numpy.array|$ c учетом специфики считывания через $\\verb|pandas|$ входных данных."
      ]
    },
    {
      "cell_type": "code",
      "metadata": {
        "id": "QAwAx78XEat1",
        "colab_type": "code",
        "colab": {}
      },
      "source": [
        "x_rvs = np.append(\n",
        "    [np.float64(df_data.columns[0])],\n",
        "    df_data.iloc[:,0:].values.flatten()\n",
        ")"
      ],
      "execution_count": 0,
      "outputs": []
    },
    {
      "cell_type": "markdown",
      "metadata": {
        "id": "quKwegMTKfYy",
        "colab_type": "text"
      },
      "source": [
        "Согласно теоретическим выладкам выше, построим линейную регрессионную модель:"
      ]
    },
    {
      "cell_type": "code",
      "metadata": {
        "id": "o7_dC8E8CdnX",
        "colab_type": "code",
        "colab": {}
      },
      "source": [
        "y_rvs = x_rvs - np.append([0.], x_rvs[:-1])"
      ],
      "execution_count": 0,
      "outputs": []
    },
    {
      "cell_type": "markdown",
      "metadata": {
        "id": "bsHoF208Kyyi",
        "colab_type": "text"
      },
      "source": [
        "Найдем оценки наименьших квадратов:"
      ]
    },
    {
      "cell_type": "code",
      "metadata": {
        "id": "HymOzecEVzFV",
        "colab_type": "code",
        "colab": {}
      },
      "source": [
        "beta_est = (y_rvs[0], np.mean(y_rvs[1:]))\n",
        "n = y_rvs.shape[0] - 1\n",
        "sigma_sq_est = (n / (n - 2)) * stats.moment(y_rvs[1:], moment=2)\n",
        "sigma_sq_t_est = sigma_sq_est / (beta_est[1]**2)"
      ],
      "execution_count": 0,
      "outputs": []
    },
    {
      "cell_type": "markdown",
      "metadata": {
        "id": "wFAdS8veLYsD",
        "colab_type": "text"
      },
      "source": [
        "для начального расстояния $\\beta_1$ и скорости $\\beta_2$"
      ]
    },
    {
      "cell_type": "code",
      "metadata": {
        "id": "GrZl53LkHK7f",
        "colab_type": "code",
        "colab": {
          "base_uri": "https://localhost:8080/",
          "height": 35
        },
        "outputId": "c1258453-5495-424d-e9c3-71589142cc98"
      },
      "source": [
        "beta_est"
      ],
      "execution_count": 14,
      "outputs": [
        {
          "output_type": "execute_result",
          "data": {
            "text/plain": [
              "(82.0053, 11.970782982982984)"
            ]
          },
          "metadata": {
            "tags": []
          },
          "execution_count": 14
        }
      ]
    },
    {
      "cell_type": "markdown",
      "metadata": {
        "id": "wH9P652-LZQK",
        "colab_type": "text"
      },
      "source": [
        "несмещенной оценки $\\sigma^2$"
      ]
    },
    {
      "cell_type": "code",
      "metadata": {
        "id": "kNxERgrcI_g5",
        "colab_type": "code",
        "colab": {
          "base_uri": "https://localhost:8080/",
          "height": 35
        },
        "outputId": "0062344d-28ce-4d73-a9d7-95c529b1cfc0"
      },
      "source": [
        "sigma_sq_est"
      ],
      "execution_count": 15,
      "outputs": [
        {
          "output_type": "execute_result",
          "data": {
            "text/plain": [
              "1.5267747059886199"
            ]
          },
          "metadata": {
            "tags": []
          },
          "execution_count": 15
        }
      ]
    },
    {
      "cell_type": "markdown",
      "metadata": {
        "id": "mazr344tLZ_D",
        "colab_type": "text"
      },
      "source": [
        "дисперсии отсчета времени $\\hat{\\sigma^{2}_{t}}$"
      ]
    },
    {
      "cell_type": "code",
      "metadata": {
        "id": "-PT9PgR1I_eY",
        "colab_type": "code",
        "colab": {
          "base_uri": "https://localhost:8080/",
          "height": 35
        },
        "outputId": "dab85bf2-62f2-4c7b-8e76-77afc6ac4605"
      },
      "source": [
        "sigma_sq_t_est"
      ],
      "execution_count": 16,
      "outputs": [
        {
          "output_type": "execute_result",
          "data": {
            "text/plain": [
              "0.01065442069716351"
            ]
          },
          "metadata": {
            "tags": []
          },
          "execution_count": 16
        }
      ]
    },
    {
      "cell_type": "markdown",
      "metadata": {
        "id": "8uPJ9eDOVeVQ",
        "colab_type": "text"
      },
      "source": [
        "# Вывод №2"
      ]
    },
    {
      "cell_type": "markdown",
      "metadata": {
        "id": "JrvqZ-pEVxja",
        "colab_type": "text"
      },
      "source": [
        "Дисперсия времени мала, следовательно показания датчика довольно точные. Линейная модель дает хорошее приближение, т.е. это подтверждает, что полученные оценки для $\\hat{\\beta_{1}}$, $\\hat{\\beta_{2}}$, $\\hat{\\sigma^{2}}$ и $\\hat{\\sigma_{t}^{2}}$ были найдены довольно точно. "
      ]
    }
  ]
}